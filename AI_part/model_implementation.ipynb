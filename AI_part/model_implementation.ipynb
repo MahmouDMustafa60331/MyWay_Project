{
  "cells": [
    {
      "cell_type": "code",
      "execution_count": 2,
      "metadata": {
        "colab": {
          "base_uri": "https://localhost:8080/"
        },
        "id": "ToxEVdnY758R",
        "outputId": "8849dee7-7454-4b3d-d5dc-ecc26d8d7145"
      },
      "outputs": [
        {
          "name": "stdout",
          "output_type": "stream",
          "text": [
            "Epoch 1/60\n",
            "226/226 [==============================] - 117s 499ms/step - loss: 0.6501 - accuracy: 0.7855 - val_loss: 0.4051 - val_accuracy: 0.8662\n",
            "Epoch 2/60\n",
            "226/226 [==============================] - 112s 496ms/step - loss: 0.4395 - accuracy: 0.8473 - val_loss: 0.3929 - val_accuracy: 0.8690\n",
            "Epoch 3/60\n",
            "226/226 [==============================] - 111s 492ms/step - loss: 0.3948 - accuracy: 0.8630 - val_loss: 0.3408 - val_accuracy: 0.8978\n",
            "Epoch 4/60\n",
            "226/226 [==============================] - 110s 484ms/step - loss: 0.3755 - accuracy: 0.8705 - val_loss: 0.3345 - val_accuracy: 0.8956\n",
            "Epoch 5/60\n",
            "226/226 [==============================] - 110s 488ms/step - loss: 0.3351 - accuracy: 0.8821 - val_loss: 0.4141 - val_accuracy: 0.8840\n",
            "Epoch 6/60\n",
            "226/226 [==============================] - 115s 510ms/step - loss: 0.3422 - accuracy: 0.8839 - val_loss: 0.3342 - val_accuracy: 0.8973\n",
            "Epoch 7/60\n",
            "226/226 [==============================] - 130s 576ms/step - loss: 0.3370 - accuracy: 0.8845 - val_loss: 0.3648 - val_accuracy: 0.8895\n",
            "Epoch 8/60\n",
            "226/226 [==============================] - 114s 504ms/step - loss: 0.3144 - accuracy: 0.8907 - val_loss: 0.3736 - val_accuracy: 0.8928\n",
            "Epoch 9/60\n",
            "226/226 [==============================] - 110s 487ms/step - loss: 0.3200 - accuracy: 0.8896 - val_loss: 0.3384 - val_accuracy: 0.8867\n",
            "Epoch 10/60\n",
            "226/226 [==============================] - 118s 520ms/step - loss: 0.2870 - accuracy: 0.8986 - val_loss: 0.3565 - val_accuracy: 0.8845\n",
            "Epoch 11/60\n",
            "226/226 [==============================] - 114s 503ms/step - loss: 0.2787 - accuracy: 0.9036 - val_loss: 0.3591 - val_accuracy: 0.8895\n",
            "Epoch 12/60\n",
            "226/226 [==============================] - 119s 527ms/step - loss: 0.2913 - accuracy: 0.8939 - val_loss: 0.3417 - val_accuracy: 0.8984\n",
            "Epoch 13/60\n",
            "226/226 [==============================] - 117s 518ms/step - loss: 0.2733 - accuracy: 0.9052 - val_loss: 0.3693 - val_accuracy: 0.8873\n",
            "Epoch 14/60\n",
            "226/226 [==============================] - 117s 517ms/step - loss: 0.2716 - accuracy: 0.9038 - val_loss: 0.3649 - val_accuracy: 0.9006\n",
            "Epoch 15/60\n",
            "226/226 [==============================] - 108s 477ms/step - loss: 0.2653 - accuracy: 0.9079 - val_loss: 0.3710 - val_accuracy: 0.8801\n",
            "Epoch 16/60\n",
            "226/226 [==============================] - 108s 476ms/step - loss: 0.2511 - accuracy: 0.9156 - val_loss: 0.3695 - val_accuracy: 0.8867\n",
            "Epoch 17/60\n",
            "226/226 [==============================] - 111s 493ms/step - loss: 0.2482 - accuracy: 0.9100 - val_loss: 0.3353 - val_accuracy: 0.8945\n",
            "Epoch 18/60\n",
            "226/226 [==============================] - 118s 523ms/step - loss: 0.2284 - accuracy: 0.9159 - val_loss: 0.3690 - val_accuracy: 0.9017\n",
            "Epoch 19/60\n",
            "226/226 [==============================] - 116s 514ms/step - loss: 0.2381 - accuracy: 0.9163 - val_loss: 0.3890 - val_accuracy: 0.8973\n",
            "Epoch 20/60\n",
            "226/226 [==============================] - 111s 490ms/step - loss: 0.2299 - accuracy: 0.9203 - val_loss: 0.3862 - val_accuracy: 0.8901\n",
            "Epoch 21/60\n",
            "226/226 [==============================] - 111s 492ms/step - loss: 0.2405 - accuracy: 0.9150 - val_loss: 0.3619 - val_accuracy: 0.9056\n",
            "Epoch 22/60\n",
            "226/226 [==============================] - 110s 488ms/step - loss: 0.2150 - accuracy: 0.9279 - val_loss: 0.4147 - val_accuracy: 0.8912\n",
            "Epoch 23/60\n",
            "226/226 [==============================] - 109s 483ms/step - loss: 0.2210 - accuracy: 0.9243 - val_loss: 0.3830 - val_accuracy: 0.8995\n",
            "Epoch 24/60\n",
            "226/226 [==============================] - 109s 483ms/step - loss: 0.2150 - accuracy: 0.9257 - val_loss: 0.3921 - val_accuracy: 0.9034\n",
            "Epoch 25/60\n",
            "226/226 [==============================] - 109s 484ms/step - loss: 0.2199 - accuracy: 0.9271 - val_loss: 0.4119 - val_accuracy: 0.8967\n",
            "Epoch 26/60\n",
            "226/226 [==============================] - 111s 492ms/step - loss: 0.1976 - accuracy: 0.9315 - val_loss: 0.4180 - val_accuracy: 0.8878\n",
            "Epoch 27/60\n",
            "226/226 [==============================] - 109s 482ms/step - loss: 0.2011 - accuracy: 0.9279 - val_loss: 0.4153 - val_accuracy: 0.8973\n",
            "Epoch 28/60\n",
            "226/226 [==============================] - 109s 483ms/step - loss: 0.1962 - accuracy: 0.9336 - val_loss: 0.4464 - val_accuracy: 0.8978\n",
            "Epoch 29/60\n",
            "226/226 [==============================] - 110s 487ms/step - loss: 0.2156 - accuracy: 0.9285 - val_loss: 0.4238 - val_accuracy: 0.8895\n",
            "Epoch 30/60\n",
            "226/226 [==============================] - 113s 499ms/step - loss: 0.2041 - accuracy: 0.9282 - val_loss: 0.3802 - val_accuracy: 0.9028\n",
            "Epoch 31/60\n",
            "226/226 [==============================] - 110s 487ms/step - loss: 0.1923 - accuracy: 0.9339 - val_loss: 0.3986 - val_accuracy: 0.9001\n",
            "226/226 [==============================] - 50s 222ms/step - loss: 0.1210 - accuracy: 0.9579\n",
            "Train accuracy: 0.9579283595085144\n",
            "57/57 [==============================] - 12s 219ms/step - loss: 0.3619 - accuracy: 0.9056\n",
            "Test accuracy: 0.9056079983711243\n"
          ]
        }
      ],
      "source": [
        "import os\n",
        "import random\n",
        "import numpy as np\n",
        "from sklearn.model_selection import train_test_split\n",
        "from sklearn.preprocessing import LabelEncoder\n",
        "from tensorflow.keras.preprocessing.image import load_img, img_to_array\n",
        "from tensorflow.keras.models import Sequential\n",
        "from tensorflow.keras.layers import Dense, GlobalAveragePooling2D, Dropout, BatchNormalization\n",
        "from tensorflow.keras import regularizers\n",
        "from tensorflow.keras.applications import InceptionV3\n",
        "from tensorflow.keras.preprocessing.image import ImageDataGenerator\n",
        "from tensorflow.keras.callbacks import EarlyStopping, ModelCheckpoint\n",
        "\n",
        "# Set the path to the folder containing the incident folders\n",
        "data_path = \"/content/drive/MyDrive/Dataset for test\"\n",
        "\n",
        "# Get the list of folders (classes)\n",
        "folders = os.listdir(data_path)\n",
        "\n",
        "# Initialize empty lists for images and labels\n",
        "images = []\n",
        "labels = []\n",
        "\n",
        "# Load images and labels\n",
        "for folder in folders:\n",
        "    folder_path = os.path.join(data_path, folder)\n",
        "    image_files = os.listdir(folder_path)\n",
        "    for image_file in image_files:\n",
        "        image_path = os.path.join(folder_path, image_file)\n",
        "        image = load_img(image_path, target_size=(224, 224))  # Adjust target size as needed for InceptionV3\n",
        "        image = img_to_array(image)\n",
        "        images.append(image)\n",
        "        labels.append(folder)\n",
        "\n",
        "# Convert lists to arrays\n",
        "images = np.array(images)\n",
        "labels = np.array(labels)\n",
        "\n",
        "# Encode the labels as integers\n",
        "label_encoder = LabelEncoder()\n",
        "labels = label_encoder.fit_transform(labels)\n",
        "\n",
        "np.save('label_encoder_classes.npy', label_encoder.classes_)\n",
        "\n",
        "# Split the data into training and test sets\n",
        "train_images, test_images, train_labels, test_labels = train_test_split(\n",
        "    images, labels, test_size=0.2, random_state=42\n",
        ")\n",
        "\n",
        "# Normalize the image data\n",
        "train_images = train_images / 255.0\n",
        "test_images = test_images / 255.0\n",
        "\n",
        "# Apply additional data augmentation\n",
        "datagen = ImageDataGenerator(\n",
        "    rotation_range=20,  # Randomly rotate images by 20 degrees\n",
        "    width_shift_range=0.2,  # Randomly shift images horizontally by 20% of the width\n",
        "    height_shift_range=0.2,  # Randomly shift images vertically by 20% of the height\n",
        "    shear_range=0.25,  # Randomly apply shearing transformations\n",
        "    zoom_range=0.2,\n",
        "    horizontal_flip=True,  # Randomly flip images horizontally\n",
        "    vertical_flip=False  # Randomly flip images vertically\n",
        ")\n",
        "\n",
        "# Fit the data augmentation generator on the training data\n",
        "datagen.fit(train_images)\n",
        "\n",
        "# Define the InceptionV3 model with pre-trained weights\n",
        "base_model = InceptionV3(weights='imagenet', include_top=False, input_shape=(224, 224, 3))  # Use InceptionV3 instead\n",
        "\n",
        "# Freeze the pre-trained layers in the base model\n",
        "for layer in base_model.layers:\n",
        "    layer.trainable = False\n",
        "\n",
        "# Add custom layers on top of the pre-trained model\n",
        "model = Sequential()\n",
        "model.add(base_model)\n",
        "model.add(GlobalAveragePooling2D())\n",
        "model.add(BatchNormalization())\n",
        "model.add(Dense(1024, activation='relu'))\n",
        "model.add(Dropout(0.1))\n",
        "model.add(Dense(512, activation='relu'))\n",
        "model.add(Dropout(0.1))\n",
        "model.add(Dense(len(folders), activation='softmax'))\n",
        "\n",
        "# Compile the model\n",
        "model.compile(optimizer='adam', loss='sparse_categorical_crossentropy', metrics=['accuracy'])\n",
        "\n",
        "# Define the EarlyStopping callback\n",
        "early_stopping = EarlyStopping(monitor='val_accuracy', patience=10, restore_best_weights=True)\n",
        "\n",
        "# Define the ModelCheckpoint callback\n",
        "checkpoint = ModelCheckpoint('/content/drive/MyDrive/best_model4weights.h5', monitor='val_accuracy', save_best_only=True)\n",
        "\n",
        "# Train the model with augmented data and callbacks\n",
        "history = model.fit(datagen.flow(train_images, train_labels, batch_size=32), epochs=60, validation_data=(test_images, test_labels), callbacks=[early_stopping, checkpoint])\n",
        "\n",
        "# Load the best weights\n",
        "model.load_weights('/content/drive/MyDrive/best_model4weights.h5')\n",
        "\n",
        "# Evaluate the model on the training data\n",
        "train_loss, train_acc = model.evaluate(train_images, train_labels)\n",
        "print(\"Train accuracy:\", train_acc)\n",
        "\n",
        "# Evaluate the model on the test data\n",
        "test_loss, test_acc = model.evaluate(test_images, test_labels)\n",
        "print(\"Test accuracy:\", test_acc)"
      ]
    },
    {
      "cell_type": "code",
      "execution_count": 3,
      "metadata": {
        "colab": {
          "base_uri": "https://localhost:8080/"
        },
        "id": "DNsxqEIo6kR5",
        "outputId": "159edf98-5351-4453-8d7f-1e172d379739"
      },
      "outputs": [
        {
          "name": "stdout",
          "output_type": "stream",
          "text": [
            "57/57 [==============================] - 14s 224ms/step\n",
            "Precision: 0.910\n",
            "Recall: 0.906\n",
            "F1 score: 0.906\n"
          ]
        }
      ],
      "source": [
        "# Make predictions on the test data\n",
        "y_pred = np.argmax(model.predict(test_images), axis=-1)\n",
        "\n",
        "# Calculate precision, recall, and F1 score\n",
        "from sklearn.metrics import precision_score, recall_score, f1_score\n",
        "\n",
        "precision = precision_score(test_labels, y_pred, average='weighted')\n",
        "recall = recall_score(test_labels, y_pred, average='weighted')\n",
        "f1 = f1_score(test_labels, y_pred, average='weighted')\n",
        "\n",
        "# Print the results\n",
        "print(\"Precision: {:.3f}\".format(precision))\n",
        "print(\"Recall: {:.3f}\".format(recall))\n",
        "print(\"F1 score: {:.3f}\".format(f1))"
      ]
    },
    {
      "cell_type": "code",
      "execution_count": 4,
      "metadata": {
        "colab": {
          "base_uri": "https://localhost:8080/",
          "height": 927
        },
        "id": "Pb7o-zXP62lj",
        "outputId": "63e935c9-1810-471b-9605-fd3dd179ecad"
      },
      "outputs": [
        {
          "data": {
            "image/png": "[encoded data removed]",
            "text/plain": [
              "<Figure size 640x480 with 1 Axes>"
            ]
          },
          "metadata": {},
          "output_type": "display_data"
        },
        {
          "data": {
            "image/png": "[encoded data removed]",
            "text/plain": [
              "<Figure size 640x480 with 1 Axes>"
            ]
          },
          "metadata": {},
          "output_type": "display_data"
        }
      ],
      "source": [
        "import matplotlib.pyplot as plt\n",
        "\n",
        "# Plot the training and validation accuracy\n",
        "plt.plot(history.history['accuracy'])\n",
        "plt.plot(history.history['val_accuracy'])\n",
        "plt.title('Model accuracy')\n",
        "plt.ylabel('Accuracy')\n",
        "plt.xlabel('Epoch')\n",
        "plt.legend(['Train', 'Validation'], loc='upper left')\n",
        "plt.show()\n",
        "\n",
        "# Plot the training and validation loss\n",
        "plt.plot(history.history['loss'])\n",
        "plt.plot(history.history['val_loss'])\n",
        "plt.title('Model loss')\n",
        "plt.ylabel('Loss')\n",
        "plt.xlabel('Epoch')\n",
        "plt.legend(['Train', 'Validation'], loc='upper right')\n",
        "plt.show()"
      ]
    },
    {
      "cell_type": "code",
      "execution_count": null,
      "metadata": {
        "id": "cRjJrpuu6_3D"
      },
      "outputs": [],
      "source": []
    },
    {
      "cell_type": "code",
      "execution_count": 24,
      "metadata": {
        "colab": {
          "base_uri": "https://localhost:8080/"
        },
        "id": "zT0fzUjH7gYl",
        "outputId": "94addde6-c705-427c-ad97-190e7deb0a38"
      },
      "outputs": [
        {
          "name": "stdout",
          "output_type": "stream",
          "text": [
            "1/1 [==============================] - 0s 47ms/step\n",
            "Predicted label: ['Fire and explosions - Severity 1']\n"
          ]
        }
      ],
      "source": [
        "from tensorflow.keras.preprocessing.image import load_img, img_to_array\n",
        "\n",
        "# Load and preprocess the new image\n",
        "new_image_path = \"/content/drive/MyDrive/1.jpg\"  # Replace with the path to your new image\n",
        "new_image = load_img(new_image_path, target_size=(224, 224))  # Adjust target size as needed\n",
        "new_image = img_to_array(new_image)\n",
        "new_image = new_image / 255.0  # Normalize the pixel values\n",
        "\n",
        "# Reshape the image to match the model's input shape\n",
        "new_image = np.expand_dims(new_image, axis=0)\n",
        "\n",
        "# Make a prediction\n",
        "predictions = model.predict(new_image)\n",
        "\n",
        "# Get the predicted class index\n",
        "predicted_class_index = np.argmax(predictions)\n",
        "\n",
        "# Decode the predicted class index to obtain the label\n",
        "predicted_label = label_encoder.inverse_transform([predicted_class_index])\n",
        "\n",
        "# Print the predicted label\n",
        "print(\"Predicted label:\", predicted_label)"
      ]
    },
    {
      "cell_type": "code",
      "execution_count": 26,
      "metadata": {
        "colab": {
          "base_uri": "https://localhost:8080/"
        },
        "id": "lhcqlNI6ly1f",
        "outputId": "420fde83-fe32-4cb2-9ca8-e57024a6014a"
      },
      "outputs": [
        {
          "name": "stdout",
          "output_type": "stream",
          "text": [
            "57/57 [==============================] - 13s 227ms/step\n",
            "Confusion matrix:\n",
            "[[ 69  10   0   1   3   6   0]\n",
            " [  0 219   1   2   9   3   0]\n",
            " [  0   3 273   1  17   1   0]\n",
            " [  1   6   1 186   8   5   0]\n",
            " [  3  13   9   5 582   7   1]\n",
            " [  1   1   1   0   4 187  12]\n",
            " [  0   0   0   0   0  35 115]]\n",
            "Classification report:\n",
            "                                  precision    recall  f1-score   support\n",
            "\n",
            "       Fallen Trees - Severity 2       0.93      0.78      0.85        89\n",
            "       Fallen Tress - Severity 1       0.87      0.94      0.90       234\n",
            "Fire and explosions - Severity 1       0.96      0.93      0.94       295\n",
            "          Floodings - Severity 1       0.95      0.90      0.93       207\n",
            "          Normal - Severity none       0.93      0.94      0.94       620\n",
            "           Potholes - Severity 1       0.77      0.91      0.83       206\n",
            "           Potholes - Severity 2       0.90      0.77      0.83       150\n",
            "\n",
            "                        accuracy                           0.91      1801\n",
            "                       macro avg       0.90      0.88      0.89      1801\n",
            "                    weighted avg       0.91      0.91      0.91      1801\n",
            "\n"
          ]
        }
      ],
      "source": [
        "from sklearn.metrics import confusion_matrix, classification_report\n",
        "\n",
        "# Get the predicted labels for the test data\n",
        "y_pred = model.predict(test_images)\n",
        "y_pred = np.argmax(y_pred, axis=1)\n",
        "\n",
        "# Compute the confusion matrix\n",
        "conf_mat = confusion_matrix(test_labels, y_pred)\n",
        "\n",
        "# Print the confusion matrix\n",
        "print(\"Confusion matrix:\")\n",
        "print(conf_mat)\n",
        "\n",
        "# Compute the classification report, which includes precision, recall, and F1 score for each class\n",
        "class_names = label_encoder.classes_\n",
        "cls_report = classification_report(test_labels, y_pred, target_names=class_names)\n",
        "print(\"Classification report:\")\n",
        "print(cls_report)"
      ]
    },
    {
      "cell_type": "code",
      "execution_count": 1,
      "metadata": {
        "colab": {
          "base_uri": "https://localhost:8080/"
        },
        "id": "DGevzTh8n5Mz",
        "outputId": "a098ab44-cd64-4062-8d02-e89fe12f8b53"
      },
      "outputs": [
        {
          "name": "stdout",
          "output_type": "stream",
          "text": [
            "Drive already mounted at /content/drive; to attempt to forcibly remount, call drive.mount(\"/content/drive\", force_remount=True).\n"
          ]
        }
      ],
      "source": [
        "from google.colab import drive\n",
        "drive.mount('/content/drive')"
      ]
    },
    {
      "cell_type": "code",
      "execution_count": 1,
      "metadata": {},
      "outputs": [],
      "source": [
        "from flask import Flask, request, jsonify\n",
        "from tensorflow.keras.models import load_model\n",
        "from tensorflow.keras.preprocessing.image import load_img, img_to_array\n",
        "import numpy as np\n",
        "import os\n",
        "from sklearn.preprocessing import LabelEncoder\n",
        "\n",
        "app = Flask(__name__)\n",
        "model = load_model('best_model4weights.h5')\n",
        "label_encoder = LabelEncoder()\n",
        "label_encoder.classes_ = np.load('label_encoder_classes_2.npy')\n",
        "import base64\n",
        "from PIL import Image\n",
        "from io import BytesIO\n",
        "\n",
        "@app.route('/predict', methods=['POST'])\n",
        "def predict():\n",
        "    # Retrieve the image file from the request\n",
        "    image_data = request.json['image']\n",
        "    \n",
        "    # Decode the base64 image data to bytes\n",
        "    image_bytes = base64.b64decode(image_data)\n",
        "    \n",
        "    # Create a PIL image from the bytes\n",
        "    image = Image.open(BytesIO(image_bytes))\n",
        "    image = image.convert('RGB')\n",
        "    image = image.resize((224, 224))\n",
        "    \n",
        "    # Convert the PIL image to numpy array\n",
        "    image = img_to_array(image) / 255.0\n",
        "    image = np.expand_dims(image, axis=0)\n",
        "    \n",
        "    # Make predictions\n",
        "    predictions = model.predict(image)\n",
        "    predicted_class_index = np.argmax(predictions)\n",
        "    predicted_label = label_encoder.inverse_transform([predicted_class_index])[0]\n",
        "\n",
        "    # Return the prediction as JSON response\n",
        "    return jsonify({'predicted_label': predicted_label})\n",
        "@app.route('/')\n",
        "def home():\n",
        "    return 'Hello, world!'\n"
      ]
    },
    {
      "cell_type": "code",
      "execution_count": 8,
      "metadata": {},
      "outputs": [
        {
          "name": "stdout",
          "output_type": "stream",
          "text": [
            " * Serving Flask app '__main__'\n",
            " * Debug mode: off\n"
          ]
        },
        {
          "name": "stderr",
          "output_type": "stream",
          "text": [
            "WARNING: This is a development server. Do not use it in a production deployment. Use a production WSGI server instead.\n",
            " * Running on http://192.168.1.6:5000\n",
            "Press CTRL+C to quit\n"
          ]
        },
        {
          "name": "stdout",
          "output_type": "stream",
          "text": [
            "1/1 [==============================] - 0s 205ms/step\n"
          ]
        },
        {
          "name": "stderr",
          "output_type": "stream",
          "text": [
            "192.168.1.7 - - [09/Jul/2023 00:16:45] \"POST /predict HTTP/1.1\" 200 -\n"
          ]
        },
        {
          "name": "stdout",
          "output_type": "stream",
          "text": [
            "1/1 [==============================] - 0s 54ms/step\n"
          ]
        },
        {
          "name": "stderr",
          "output_type": "stream",
          "text": [
            "192.168.1.7 - - [09/Jul/2023 00:17:47] \"POST /predict HTTP/1.1\" 200 -\n"
          ]
        },
        {
          "name": "stdout",
          "output_type": "stream",
          "text": [
            "1/1 [==============================] - 0s 52ms/step\n"
          ]
        },
        {
          "name": "stderr",
          "output_type": "stream",
          "text": [
            "192.168.1.7 - - [09/Jul/2023 00:18:40] \"POST /predict HTTP/1.1\" 200 -\n"
          ]
        },
        {
          "name": "stdout",
          "output_type": "stream",
          "text": [
            "1/1 [==============================] - 0s 51ms/step\n"
          ]
        },
        {
          "name": "stderr",
          "output_type": "stream",
          "text": [
            "192.168.1.7 - - [09/Jul/2023 00:20:10] \"POST /predict HTTP/1.1\" 200 -\n"
          ]
        },
        {
          "name": "stdout",
          "output_type": "stream",
          "text": [
            "1/1 [==============================] - 0s 56ms/step\n"
          ]
        },
        {
          "name": "stderr",
          "output_type": "stream",
          "text": [
            "192.168.1.7 - - [09/Jul/2023 00:21:27] \"POST /predict HTTP/1.1\" 200 -\n"
          ]
        },
        {
          "name": "stdout",
          "output_type": "stream",
          "text": [
            "1/1 [==============================] - 0s 53ms/step\n"
          ]
        },
        {
          "name": "stderr",
          "output_type": "stream",
          "text": [
            "192.168.1.7 - - [09/Jul/2023 00:26:00] \"POST /predict HTTP/1.1\" 200 -\n"
          ]
        },
        {
          "name": "stdout",
          "output_type": "stream",
          "text": [
            "1/1 [==============================] - 0s 51ms/step\n"
          ]
        },
        {
          "name": "stderr",
          "output_type": "stream",
          "text": [
            "192.168.1.7 - - [09/Jul/2023 00:27:31] \"POST /predict HTTP/1.1\" 200 -\n"
          ]
        },
        {
          "name": "stdout",
          "output_type": "stream",
          "text": [
            "1/1 [==============================] - 0s 55ms/step\n"
          ]
        },
        {
          "name": "stderr",
          "output_type": "stream",
          "text": [
            "192.168.1.7 - - [09/Jul/2023 00:38:21] \"POST /predict HTTP/1.1\" 200 -\n"
          ]
        },
        {
          "name": "stdout",
          "output_type": "stream",
          "text": [
            "1/1 [==============================] - 0s 53ms/step\n"
          ]
        },
        {
          "name": "stderr",
          "output_type": "stream",
          "text": [
            "192.168.1.7 - - [09/Jul/2023 00:39:54] \"POST /predict HTTP/1.1\" 200 -\n"
          ]
        },
        {
          "name": "stdout",
          "output_type": "stream",
          "text": [
            "1/1 [==============================] - 0s 49ms/step\n"
          ]
        },
        {
          "name": "stderr",
          "output_type": "stream",
          "text": [
            "192.168.1.7 - - [09/Jul/2023 00:42:23] \"POST /predict HTTP/1.1\" 200 -\n"
          ]
        },
        {
          "name": "stdout",
          "output_type": "stream",
          "text": [
            "1/1 [==============================] - 0s 58ms/step\n"
          ]
        },
        {
          "name": "stderr",
          "output_type": "stream",
          "text": [
            "192.168.1.7 - - [09/Jul/2023 00:43:26] \"POST /predict HTTP/1.1\" 200 -\n"
          ]
        },
        {
          "name": "stdout",
          "output_type": "stream",
          "text": [
            "1/1 [==============================] - 0s 58ms/step\n"
          ]
        },
        {
          "name": "stderr",
          "output_type": "stream",
          "text": [
            "192.168.1.7 - - [09/Jul/2023 00:46:32] \"POST /predict HTTP/1.1\" 200 -\n"
          ]
        },
        {
          "name": "stdout",
          "output_type": "stream",
          "text": [
            "1/1 [==============================] - 0s 61ms/step\n"
          ]
        },
        {
          "name": "stderr",
          "output_type": "stream",
          "text": [
            "192.168.1.7 - - [09/Jul/2023 00:54:52] \"POST /predict HTTP/1.1\" 200 -\n"
          ]
        },
        {
          "name": "stdout",
          "output_type": "stream",
          "text": [
            "1/1 [==============================] - 0s 56ms/step\n"
          ]
        },
        {
          "name": "stderr",
          "output_type": "stream",
          "text": [
            "192.168.1.7 - - [09/Jul/2023 00:56:30] \"POST /predict HTTP/1.1\" 200 -\n"
          ]
        },
        {
          "name": "stdout",
          "output_type": "stream",
          "text": [
            "1/1 [==============================] - 0s 63ms/step\n"
          ]
        },
        {
          "name": "stderr",
          "output_type": "stream",
          "text": [
            "192.168.1.7 - - [09/Jul/2023 00:58:11] \"POST /predict HTTP/1.1\" 200 -\n"
          ]
        },
        {
          "name": "stdout",
          "output_type": "stream",
          "text": [
            "1/1 [==============================] - 0s 69ms/step\n"
          ]
        },
        {
          "name": "stderr",
          "output_type": "stream",
          "text": [
            "192.168.1.7 - - [09/Jul/2023 01:33:40] \"POST /predict HTTP/1.1\" 200 -\n"
          ]
        },
        {
          "name": "stdout",
          "output_type": "stream",
          "text": [
            "1/1 [==============================] - 0s 71ms/step\n"
          ]
        },
        {
          "name": "stderr",
          "output_type": "stream",
          "text": [
            "192.168.1.7 - - [09/Jul/2023 01:34:48] \"POST /predict HTTP/1.1\" 200 -\n"
          ]
        },
        {
          "name": "stdout",
          "output_type": "stream",
          "text": [
            "1/1 [==============================] - 0s 62ms/step\n"
          ]
        },
        {
          "name": "stderr",
          "output_type": "stream",
          "text": [
            "192.168.1.7 - - [09/Jul/2023 01:35:23] \"POST /predict HTTP/1.1\" 200 -\n"
          ]
        },
        {
          "name": "stdout",
          "output_type": "stream",
          "text": [
            "1/1 [==============================] - 0s 60ms/step\n"
          ]
        },
        {
          "name": "stderr",
          "output_type": "stream",
          "text": [
            "192.168.1.7 - - [09/Jul/2023 01:39:36] \"POST /predict HTTP/1.1\" 200 -\n"
          ]
        },
        {
          "name": "stdout",
          "output_type": "stream",
          "text": [
            "1/1 [==============================] - 0s 105ms/step\n"
          ]
        },
        {
          "name": "stderr",
          "output_type": "stream",
          "text": [
            "192.168.1.7 - - [09/Jul/2023 02:23:49] \"POST /predict HTTP/1.1\" 200 -\n"
          ]
        },
        {
          "name": "stdout",
          "output_type": "stream",
          "text": [
            "1/1 [==============================] - 0s 63ms/step\n"
          ]
        },
        {
          "name": "stderr",
          "output_type": "stream",
          "text": [
            "192.168.1.7 - - [09/Jul/2023 02:26:06] \"POST /predict HTTP/1.1\" 200 -\n"
          ]
        },
        {
          "name": "stdout",
          "output_type": "stream",
          "text": [
            "1/1 [==============================] - 0s 58ms/step\n"
          ]
        },
        {
          "name": "stderr",
          "output_type": "stream",
          "text": [
            "192.168.1.7 - - [09/Jul/2023 02:30:43] \"POST /predict HTTP/1.1\" 200 -\n"
          ]
        },
        {
          "name": "stdout",
          "output_type": "stream",
          "text": [
            "1/1 [==============================] - 0s 57ms/step\n"
          ]
        },
        {
          "name": "stderr",
          "output_type": "stream",
          "text": [
            "192.168.1.7 - - [09/Jul/2023 02:35:34] \"POST /predict HTTP/1.1\" 200 -\n"
          ]
        },
        {
          "name": "stdout",
          "output_type": "stream",
          "text": [
            "1/1 [==============================] - 0s 67ms/step\n"
          ]
        },
        {
          "name": "stderr",
          "output_type": "stream",
          "text": [
            "192.168.1.7 - - [09/Jul/2023 02:36:17] \"POST /predict HTTP/1.1\" 200 -\n"
          ]
        },
        {
          "name": "stdout",
          "output_type": "stream",
          "text": [
            "1/1 [==============================] - 0s 131ms/step\n"
          ]
        },
        {
          "name": "stderr",
          "output_type": "stream",
          "text": [
            "192.168.1.7 - - [09/Jul/2023 03:14:40] \"POST /predict HTTP/1.1\" 200 -\n"
          ]
        },
        {
          "name": "stdout",
          "output_type": "stream",
          "text": [
            "1/1 [==============================] - 0s 61ms/step\n"
          ]
        },
        {
          "name": "stderr",
          "output_type": "stream",
          "text": [
            "192.168.1.7 - - [09/Jul/2023 03:18:31] \"POST /predict HTTP/1.1\" 200 -\n"
          ]
        },
        {
          "name": "stdout",
          "output_type": "stream",
          "text": [
            "1/1 [==============================] - 0s 56ms/step\n"
          ]
        },
        {
          "name": "stderr",
          "output_type": "stream",
          "text": [
            "192.168.1.7 - - [09/Jul/2023 03:23:32] \"POST /predict HTTP/1.1\" 200 -\n"
          ]
        },
        {
          "name": "stdout",
          "output_type": "stream",
          "text": [
            "1/1 [==============================] - 0s 55ms/step\n"
          ]
        },
        {
          "name": "stderr",
          "output_type": "stream",
          "text": [
            "192.168.1.7 - - [09/Jul/2023 03:25:25] \"POST /predict HTTP/1.1\" 200 -\n"
          ]
        },
        {
          "name": "stdout",
          "output_type": "stream",
          "text": [
            "1/1 [==============================] - 0s 57ms/step\n"
          ]
        },
        {
          "name": "stderr",
          "output_type": "stream",
          "text": [
            "192.168.1.7 - - [09/Jul/2023 03:30:19] \"POST /predict HTTP/1.1\" 200 -\n"
          ]
        },
        {
          "name": "stdout",
          "output_type": "stream",
          "text": [
            "1/1 [==============================] - 0s 51ms/step\n"
          ]
        },
        {
          "name": "stderr",
          "output_type": "stream",
          "text": [
            "192.168.1.7 - - [09/Jul/2023 03:31:28] \"POST /predict HTTP/1.1\" 200 -\n"
          ]
        }
      ],
      "source": [
        "if __name__ == '__main__':\n",
        "    app.run(host='192.168.1.6', port=5000)"
      ]
    }
  ],
  "metadata": {
    "accelerator": "TPU",
    "colab": {
      "machine_shape": "hm",
      "provenance": []
    },
    "kernelspec": {
      "display_name": "Python 3",
      "name": "python3"
    },
    "language_info": {
      "codemirror_mode": {
        "name": "ipython",
        "version": 3
      },
      "file_extension": ".py",
      "mimetype": "text/x-python",
      "name": "python",
      "nbconvert_exporter": "python",
      "pygments_lexer": "ipython3",
      "version": "3.11.3"
    }
  },
  "nbformat": 4,
  "nbformat_minor": 0
}
